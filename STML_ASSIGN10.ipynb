{
  "nbformat": 4,
  "nbformat_minor": 0,
  "metadata": {
    "colab": {
      "provenance": [],
      "authorship_tag": "ABX9TyMYPG6YYHvhQzs3nVuGsNWk",
      "include_colab_link": true
    },
    "kernelspec": {
      "name": "python3",
      "display_name": "Python 3"
    },
    "language_info": {
      "name": "python"
    }
  },
  "cells": [
    {
      "cell_type": "markdown",
      "metadata": {
        "id": "view-in-github",
        "colab_type": "text"
      },
      "source": [
        "<a href=\"https://colab.research.google.com/github/2303A52069/STML_Assignment_2303A52069/blob/main/STML_ASSIGN10.ipynb\" target=\"_parent\"><img src=\"https://colab.research.google.com/assets/colab-badge.svg\" alt=\"Open In Colab\"/></a>"
      ]
    },
    {
      "cell_type": "code",
      "source": [
        "import pandas as pd\n",
        "import numpy as np\n"
      ],
      "metadata": {
        "id": "Jt8-XlA8zvxY"
      },
      "execution_count": null,
      "outputs": []
    },
    {
      "cell_type": "code",
      "source": [
        "data = pd.read_csv('/content/breast_cancer_survival.csv')\n"
      ],
      "metadata": {
        "id": "jLM4ygp-zypq"
      },
      "execution_count": null,
      "outputs": []
    },
    {
      "cell_type": "code",
      "source": [
        "data.head()\n"
      ],
      "metadata": {
        "colab": {
          "base_uri": "https://localhost:8080/",
          "height": 417
        },
        "id": "b2v9LS7Sz25h",
        "outputId": "ed7d6b83-9c37-49f5-8a73-8cc2d0179080"
      },
      "execution_count": null,
      "outputs": [
        {
          "output_type": "execute_result",
          "data": {
            "text/plain": [
              "   Age  Gender  Protein1  Protein2  Protein3  Protein4 Tumour_Stage  \\\n",
              "0   42  FEMALE   0.95256   2.15000  0.007972 -0.048340           II   \n",
              "1   54  FEMALE   0.00000   1.38020 -0.498030 -0.507320           II   \n",
              "2   63  FEMALE  -0.52303   1.76400 -0.370190  0.010815           II   \n",
              "3   78  FEMALE  -0.87618   0.12943 -0.370380  0.132190            I   \n",
              "4   42  FEMALE   0.22611   1.74910 -0.543970 -0.390210           II   \n",
              "\n",
              "                       Histology ER status PR status HER2 status Surgery_type  \\\n",
              "0  Infiltrating Ductal Carcinoma  Positive  Positive    Negative        Other   \n",
              "1  Infiltrating Ductal Carcinoma  Positive  Positive    Negative        Other   \n",
              "2  Infiltrating Ductal Carcinoma  Positive  Positive    Negative   Lumpectomy   \n",
              "3  Infiltrating Ductal Carcinoma  Positive  Positive    Negative        Other   \n",
              "4  Infiltrating Ductal Carcinoma  Positive  Positive    Positive   Lumpectomy   \n",
              "\n",
              "  Date_of_Surgery Date_of_Last_Visit Patient_Status  \n",
              "0       20-May-18          26-Aug-18          Alive  \n",
              "1       26-Apr-18          25-Jan-19           Dead  \n",
              "2       24-Aug-18          08-Apr-20          Alive  \n",
              "3       16-Nov-18          28-Jul-20          Alive  \n",
              "4       12-Dec-18          05-Jan-19          Alive  "
            ],
            "text/html": [
              "\n",
              "  <div id=\"df-72c76f4c-4d9d-4d68-81f2-c2f8e6e471e6\" class=\"colab-df-container\">\n",
              "    <div>\n",
              "<style scoped>\n",
              "    .dataframe tbody tr th:only-of-type {\n",
              "        vertical-align: middle;\n",
              "    }\n",
              "\n",
              "    .dataframe tbody tr th {\n",
              "        vertical-align: top;\n",
              "    }\n",
              "\n",
              "    .dataframe thead th {\n",
              "        text-align: right;\n",
              "    }\n",
              "</style>\n",
              "<table border=\"1\" class=\"dataframe\">\n",
              "  <thead>\n",
              "    <tr style=\"text-align: right;\">\n",
              "      <th></th>\n",
              "      <th>Age</th>\n",
              "      <th>Gender</th>\n",
              "      <th>Protein1</th>\n",
              "      <th>Protein2</th>\n",
              "      <th>Protein3</th>\n",
              "      <th>Protein4</th>\n",
              "      <th>Tumour_Stage</th>\n",
              "      <th>Histology</th>\n",
              "      <th>ER status</th>\n",
              "      <th>PR status</th>\n",
              "      <th>HER2 status</th>\n",
              "      <th>Surgery_type</th>\n",
              "      <th>Date_of_Surgery</th>\n",
              "      <th>Date_of_Last_Visit</th>\n",
              "      <th>Patient_Status</th>\n",
              "    </tr>\n",
              "  </thead>\n",
              "  <tbody>\n",
              "    <tr>\n",
              "      <th>0</th>\n",
              "      <td>42</td>\n",
              "      <td>FEMALE</td>\n",
              "      <td>0.95256</td>\n",
              "      <td>2.15000</td>\n",
              "      <td>0.007972</td>\n",
              "      <td>-0.048340</td>\n",
              "      <td>II</td>\n",
              "      <td>Infiltrating Ductal Carcinoma</td>\n",
              "      <td>Positive</td>\n",
              "      <td>Positive</td>\n",
              "      <td>Negative</td>\n",
              "      <td>Other</td>\n",
              "      <td>20-May-18</td>\n",
              "      <td>26-Aug-18</td>\n",
              "      <td>Alive</td>\n",
              "    </tr>\n",
              "    <tr>\n",
              "      <th>1</th>\n",
              "      <td>54</td>\n",
              "      <td>FEMALE</td>\n",
              "      <td>0.00000</td>\n",
              "      <td>1.38020</td>\n",
              "      <td>-0.498030</td>\n",
              "      <td>-0.507320</td>\n",
              "      <td>II</td>\n",
              "      <td>Infiltrating Ductal Carcinoma</td>\n",
              "      <td>Positive</td>\n",
              "      <td>Positive</td>\n",
              "      <td>Negative</td>\n",
              "      <td>Other</td>\n",
              "      <td>26-Apr-18</td>\n",
              "      <td>25-Jan-19</td>\n",
              "      <td>Dead</td>\n",
              "    </tr>\n",
              "    <tr>\n",
              "      <th>2</th>\n",
              "      <td>63</td>\n",
              "      <td>FEMALE</td>\n",
              "      <td>-0.52303</td>\n",
              "      <td>1.76400</td>\n",
              "      <td>-0.370190</td>\n",
              "      <td>0.010815</td>\n",
              "      <td>II</td>\n",
              "      <td>Infiltrating Ductal Carcinoma</td>\n",
              "      <td>Positive</td>\n",
              "      <td>Positive</td>\n",
              "      <td>Negative</td>\n",
              "      <td>Lumpectomy</td>\n",
              "      <td>24-Aug-18</td>\n",
              "      <td>08-Apr-20</td>\n",
              "      <td>Alive</td>\n",
              "    </tr>\n",
              "    <tr>\n",
              "      <th>3</th>\n",
              "      <td>78</td>\n",
              "      <td>FEMALE</td>\n",
              "      <td>-0.87618</td>\n",
              "      <td>0.12943</td>\n",
              "      <td>-0.370380</td>\n",
              "      <td>0.132190</td>\n",
              "      <td>I</td>\n",
              "      <td>Infiltrating Ductal Carcinoma</td>\n",
              "      <td>Positive</td>\n",
              "      <td>Positive</td>\n",
              "      <td>Negative</td>\n",
              "      <td>Other</td>\n",
              "      <td>16-Nov-18</td>\n",
              "      <td>28-Jul-20</td>\n",
              "      <td>Alive</td>\n",
              "    </tr>\n",
              "    <tr>\n",
              "      <th>4</th>\n",
              "      <td>42</td>\n",
              "      <td>FEMALE</td>\n",
              "      <td>0.22611</td>\n",
              "      <td>1.74910</td>\n",
              "      <td>-0.543970</td>\n",
              "      <td>-0.390210</td>\n",
              "      <td>II</td>\n",
              "      <td>Infiltrating Ductal Carcinoma</td>\n",
              "      <td>Positive</td>\n",
              "      <td>Positive</td>\n",
              "      <td>Positive</td>\n",
              "      <td>Lumpectomy</td>\n",
              "      <td>12-Dec-18</td>\n",
              "      <td>05-Jan-19</td>\n",
              "      <td>Alive</td>\n",
              "    </tr>\n",
              "  </tbody>\n",
              "</table>\n",
              "</div>\n",
              "    <div class=\"colab-df-buttons\">\n",
              "\n",
              "  <div class=\"colab-df-container\">\n",
              "    <button class=\"colab-df-convert\" onclick=\"convertToInteractive('df-72c76f4c-4d9d-4d68-81f2-c2f8e6e471e6')\"\n",
              "            title=\"Convert this dataframe to an interactive table.\"\n",
              "            style=\"display:none;\">\n",
              "\n",
              "  <svg xmlns=\"http://www.w3.org/2000/svg\" height=\"24px\" viewBox=\"0 -960 960 960\">\n",
              "    <path d=\"M120-120v-720h720v720H120Zm60-500h600v-160H180v160Zm220 220h160v-160H400v160Zm0 220h160v-160H400v160ZM180-400h160v-160H180v160Zm440 0h160v-160H620v160ZM180-180h160v-160H180v160Zm440 0h160v-160H620v160Z\"/>\n",
              "  </svg>\n",
              "    </button>\n",
              "\n",
              "  <style>\n",
              "    .colab-df-container {\n",
              "      display:flex;\n",
              "      gap: 12px;\n",
              "    }\n",
              "\n",
              "    .colab-df-convert {\n",
              "      background-color: #E8F0FE;\n",
              "      border: none;\n",
              "      border-radius: 50%;\n",
              "      cursor: pointer;\n",
              "      display: none;\n",
              "      fill: #1967D2;\n",
              "      height: 32px;\n",
              "      padding: 0 0 0 0;\n",
              "      width: 32px;\n",
              "    }\n",
              "\n",
              "    .colab-df-convert:hover {\n",
              "      background-color: #E2EBFA;\n",
              "      box-shadow: 0px 1px 2px rgba(60, 64, 67, 0.3), 0px 1px 3px 1px rgba(60, 64, 67, 0.15);\n",
              "      fill: #174EA6;\n",
              "    }\n",
              "\n",
              "    .colab-df-buttons div {\n",
              "      margin-bottom: 4px;\n",
              "    }\n",
              "\n",
              "    [theme=dark] .colab-df-convert {\n",
              "      background-color: #3B4455;\n",
              "      fill: #D2E3FC;\n",
              "    }\n",
              "\n",
              "    [theme=dark] .colab-df-convert:hover {\n",
              "      background-color: #434B5C;\n",
              "      box-shadow: 0px 1px 3px 1px rgba(0, 0, 0, 0.15);\n",
              "      filter: drop-shadow(0px 1px 2px rgba(0, 0, 0, 0.3));\n",
              "      fill: #FFFFFF;\n",
              "    }\n",
              "  </style>\n",
              "\n",
              "    <script>\n",
              "      const buttonEl =\n",
              "        document.querySelector('#df-72c76f4c-4d9d-4d68-81f2-c2f8e6e471e6 button.colab-df-convert');\n",
              "      buttonEl.style.display =\n",
              "        google.colab.kernel.accessAllowed ? 'block' : 'none';\n",
              "\n",
              "      async function convertToInteractive(key) {\n",
              "        const element = document.querySelector('#df-72c76f4c-4d9d-4d68-81f2-c2f8e6e471e6');\n",
              "        const dataTable =\n",
              "          await google.colab.kernel.invokeFunction('convertToInteractive',\n",
              "                                                    [key], {});\n",
              "        if (!dataTable) return;\n",
              "\n",
              "        const docLinkHtml = 'Like what you see? Visit the ' +\n",
              "          '<a target=\"_blank\" href=https://colab.research.google.com/notebooks/data_table.ipynb>data table notebook</a>'\n",
              "          + ' to learn more about interactive tables.';\n",
              "        element.innerHTML = '';\n",
              "        dataTable['output_type'] = 'display_data';\n",
              "        await google.colab.output.renderOutput(dataTable, element);\n",
              "        const docLink = document.createElement('div');\n",
              "        docLink.innerHTML = docLinkHtml;\n",
              "        element.appendChild(docLink);\n",
              "      }\n",
              "    </script>\n",
              "  </div>\n",
              "\n",
              "\n",
              "<div id=\"df-3108c751-9d5d-491c-93d1-8b35791abfc1\">\n",
              "  <button class=\"colab-df-quickchart\" onclick=\"quickchart('df-3108c751-9d5d-491c-93d1-8b35791abfc1')\"\n",
              "            title=\"Suggest charts\"\n",
              "            style=\"display:none;\">\n",
              "\n",
              "<svg xmlns=\"http://www.w3.org/2000/svg\" height=\"24px\"viewBox=\"0 0 24 24\"\n",
              "     width=\"24px\">\n",
              "    <g>\n",
              "        <path d=\"M19 3H5c-1.1 0-2 .9-2 2v14c0 1.1.9 2 2 2h14c1.1 0 2-.9 2-2V5c0-1.1-.9-2-2-2zM9 17H7v-7h2v7zm4 0h-2V7h2v10zm4 0h-2v-4h2v4z\"/>\n",
              "    </g>\n",
              "</svg>\n",
              "  </button>\n",
              "\n",
              "<style>\n",
              "  .colab-df-quickchart {\n",
              "      --bg-color: #E8F0FE;\n",
              "      --fill-color: #1967D2;\n",
              "      --hover-bg-color: #E2EBFA;\n",
              "      --hover-fill-color: #174EA6;\n",
              "      --disabled-fill-color: #AAA;\n",
              "      --disabled-bg-color: #DDD;\n",
              "  }\n",
              "\n",
              "  [theme=dark] .colab-df-quickchart {\n",
              "      --bg-color: #3B4455;\n",
              "      --fill-color: #D2E3FC;\n",
              "      --hover-bg-color: #434B5C;\n",
              "      --hover-fill-color: #FFFFFF;\n",
              "      --disabled-bg-color: #3B4455;\n",
              "      --disabled-fill-color: #666;\n",
              "  }\n",
              "\n",
              "  .colab-df-quickchart {\n",
              "    background-color: var(--bg-color);\n",
              "    border: none;\n",
              "    border-radius: 50%;\n",
              "    cursor: pointer;\n",
              "    display: none;\n",
              "    fill: var(--fill-color);\n",
              "    height: 32px;\n",
              "    padding: 0;\n",
              "    width: 32px;\n",
              "  }\n",
              "\n",
              "  .colab-df-quickchart:hover {\n",
              "    background-color: var(--hover-bg-color);\n",
              "    box-shadow: 0 1px 2px rgba(60, 64, 67, 0.3), 0 1px 3px 1px rgba(60, 64, 67, 0.15);\n",
              "    fill: var(--button-hover-fill-color);\n",
              "  }\n",
              "\n",
              "  .colab-df-quickchart-complete:disabled,\n",
              "  .colab-df-quickchart-complete:disabled:hover {\n",
              "    background-color: var(--disabled-bg-color);\n",
              "    fill: var(--disabled-fill-color);\n",
              "    box-shadow: none;\n",
              "  }\n",
              "\n",
              "  .colab-df-spinner {\n",
              "    border: 2px solid var(--fill-color);\n",
              "    border-color: transparent;\n",
              "    border-bottom-color: var(--fill-color);\n",
              "    animation:\n",
              "      spin 1s steps(1) infinite;\n",
              "  }\n",
              "\n",
              "  @keyframes spin {\n",
              "    0% {\n",
              "      border-color: transparent;\n",
              "      border-bottom-color: var(--fill-color);\n",
              "      border-left-color: var(--fill-color);\n",
              "    }\n",
              "    20% {\n",
              "      border-color: transparent;\n",
              "      border-left-color: var(--fill-color);\n",
              "      border-top-color: var(--fill-color);\n",
              "    }\n",
              "    30% {\n",
              "      border-color: transparent;\n",
              "      border-left-color: var(--fill-color);\n",
              "      border-top-color: var(--fill-color);\n",
              "      border-right-color: var(--fill-color);\n",
              "    }\n",
              "    40% {\n",
              "      border-color: transparent;\n",
              "      border-right-color: var(--fill-color);\n",
              "      border-top-color: var(--fill-color);\n",
              "    }\n",
              "    60% {\n",
              "      border-color: transparent;\n",
              "      border-right-color: var(--fill-color);\n",
              "    }\n",
              "    80% {\n",
              "      border-color: transparent;\n",
              "      border-right-color: var(--fill-color);\n",
              "      border-bottom-color: var(--fill-color);\n",
              "    }\n",
              "    90% {\n",
              "      border-color: transparent;\n",
              "      border-bottom-color: var(--fill-color);\n",
              "    }\n",
              "  }\n",
              "</style>\n",
              "\n",
              "  <script>\n",
              "    async function quickchart(key) {\n",
              "      const quickchartButtonEl =\n",
              "        document.querySelector('#' + key + ' button');\n",
              "      quickchartButtonEl.disabled = true;  // To prevent multiple clicks.\n",
              "      quickchartButtonEl.classList.add('colab-df-spinner');\n",
              "      try {\n",
              "        const charts = await google.colab.kernel.invokeFunction(\n",
              "            'suggestCharts', [key], {});\n",
              "      } catch (error) {\n",
              "        console.error('Error during call to suggestCharts:', error);\n",
              "      }\n",
              "      quickchartButtonEl.classList.remove('colab-df-spinner');\n",
              "      quickchartButtonEl.classList.add('colab-df-quickchart-complete');\n",
              "    }\n",
              "    (() => {\n",
              "      let quickchartButtonEl =\n",
              "        document.querySelector('#df-3108c751-9d5d-491c-93d1-8b35791abfc1 button');\n",
              "      quickchartButtonEl.style.display =\n",
              "        google.colab.kernel.accessAllowed ? 'block' : 'none';\n",
              "    })();\n",
              "  </script>\n",
              "</div>\n",
              "\n",
              "    </div>\n",
              "  </div>\n"
            ],
            "application/vnd.google.colaboratory.intrinsic+json": {
              "type": "dataframe",
              "variable_name": "data",
              "summary": "{\n  \"name\": \"data\",\n  \"rows\": 334,\n  \"fields\": [\n    {\n      \"column\": \"Age\",\n      \"properties\": {\n        \"dtype\": \"number\",\n        \"std\": 12,\n        \"min\": 29,\n        \"max\": 90,\n        \"num_unique_values\": 57,\n        \"samples\": [\n          42,\n          66,\n          89\n        ],\n        \"semantic_type\": \"\",\n        \"description\": \"\"\n      }\n    },\n    {\n      \"column\": \"Gender\",\n      \"properties\": {\n        \"dtype\": \"category\",\n        \"num_unique_values\": 2,\n        \"samples\": [\n          \"MALE\",\n          \"FEMALE\"\n        ],\n        \"semantic_type\": \"\",\n        \"description\": \"\"\n      }\n    },\n    {\n      \"column\": \"Protein1\",\n      \"properties\": {\n        \"dtype\": \"number\",\n        \"std\": 0.5635879406321602,\n        \"min\": -2.3409,\n        \"max\": 1.5936,\n        \"num_unique_values\": 333,\n        \"samples\": [\n          0.043546,\n          -0.17932\n        ],\n        \"semantic_type\": \"\",\n        \"description\": \"\"\n      }\n    },\n    {\n      \"column\": \"Protein2\",\n      \"properties\": {\n        \"dtype\": \"number\",\n        \"std\": 0.9116368651586273,\n        \"min\": -0.97873,\n        \"max\": 3.4022,\n        \"num_unique_values\": 334,\n        \"samples\": [\n          -0.40171,\n          1.5287\n        ],\n        \"semantic_type\": \"\",\n        \"description\": \"\"\n      }\n    },\n    {\n      \"column\": \"Protein3\",\n      \"properties\": {\n        \"dtype\": \"number\",\n        \"std\": 0.5851750448966601,\n        \"min\": -1.6274,\n        \"max\": 2.1934,\n        \"num_unique_values\": 334,\n        \"samples\": [\n          0.46685,\n          -0.16313\n        ],\n        \"semantic_type\": \"\",\n        \"description\": \"\"\n      }\n    },\n    {\n      \"column\": \"Protein4\",\n      \"properties\": {\n        \"dtype\": \"number\",\n        \"std\": 0.6290546860772147,\n        \"min\": -2.0255,\n        \"max\": 1.6299,\n        \"num_unique_values\": 333,\n        \"samples\": [\n          1.0478,\n          0.18637\n        ],\n        \"semantic_type\": \"\",\n        \"description\": \"\"\n      }\n    },\n    {\n      \"column\": \"Tumour_Stage\",\n      \"properties\": {\n        \"dtype\": \"category\",\n        \"num_unique_values\": 3,\n        \"samples\": [\n          \"II\",\n          \"I\"\n        ],\n        \"semantic_type\": \"\",\n        \"description\": \"\"\n      }\n    },\n    {\n      \"column\": \"Histology\",\n      \"properties\": {\n        \"dtype\": \"category\",\n        \"num_unique_values\": 3,\n        \"samples\": [\n          \"Infiltrating Ductal Carcinoma\",\n          \"Infiltrating Lobular Carcinoma\"\n        ],\n        \"semantic_type\": \"\",\n        \"description\": \"\"\n      }\n    },\n    {\n      \"column\": \"ER status\",\n      \"properties\": {\n        \"dtype\": \"category\",\n        \"num_unique_values\": 1,\n        \"samples\": [\n          \"Positive\"\n        ],\n        \"semantic_type\": \"\",\n        \"description\": \"\"\n      }\n    },\n    {\n      \"column\": \"PR status\",\n      \"properties\": {\n        \"dtype\": \"category\",\n        \"num_unique_values\": 1,\n        \"samples\": [\n          \"Positive\"\n        ],\n        \"semantic_type\": \"\",\n        \"description\": \"\"\n      }\n    },\n    {\n      \"column\": \"HER2 status\",\n      \"properties\": {\n        \"dtype\": \"category\",\n        \"num_unique_values\": 2,\n        \"samples\": [\n          \"Positive\"\n        ],\n        \"semantic_type\": \"\",\n        \"description\": \"\"\n      }\n    },\n    {\n      \"column\": \"Surgery_type\",\n      \"properties\": {\n        \"dtype\": \"category\",\n        \"num_unique_values\": 4,\n        \"samples\": [\n          \"Lumpectomy\"\n        ],\n        \"semantic_type\": \"\",\n        \"description\": \"\"\n      }\n    },\n    {\n      \"column\": \"Date_of_Surgery\",\n      \"properties\": {\n        \"dtype\": \"object\",\n        \"num_unique_values\": 181,\n        \"samples\": [\n          \"15-Feb-18\"\n        ],\n        \"semantic_type\": \"\",\n        \"description\": \"\"\n      }\n    },\n    {\n      \"column\": \"Date_of_Last_Visit\",\n      \"properties\": {\n        \"dtype\": \"object\",\n        \"num_unique_values\": 285,\n        \"samples\": [\n          \"28-Dec-19\"\n        ],\n        \"semantic_type\": \"\",\n        \"description\": \"\"\n      }\n    },\n    {\n      \"column\": \"Patient_Status\",\n      \"properties\": {\n        \"dtype\": \"category\",\n        \"num_unique_values\": 2,\n        \"samples\": [\n          \"Dead\"\n        ],\n        \"semantic_type\": \"\",\n        \"description\": \"\"\n      }\n    }\n  ]\n}"
            }
          },
          "metadata": {},
          "execution_count": 4
        }
      ]
    },
    {
      "cell_type": "code",
      "source": [
        "data.replace('FEMALE',0, inplace=True)\n",
        "data.replace('MALE',1, inplace=True)\n",
        "data.replace('Positive',1, inplace=True)\n",
        "data.replace('Negative',0, inplace=True)\n",
        "data.replace('Dead',0, inplace=True)\n",
        "data.replace('Alive',1, inplace=True)\n"
      ],
      "metadata": {
        "colab": {
          "base_uri": "https://localhost:8080/"
        },
        "id": "6puVpZci0AKt",
        "outputId": "b5ac2a16-1758-4797-c4c3-7442a8d0acc4"
      },
      "execution_count": null,
      "outputs": [
        {
          "output_type": "stream",
          "name": "stderr",
          "text": [
            "<ipython-input-5-709dcaf1cf2f>:2: FutureWarning: Downcasting behavior in `replace` is deprecated and will be removed in a future version. To retain the old behavior, explicitly call `result.infer_objects(copy=False)`. To opt-in to the future behavior, set `pd.set_option('future.no_silent_downcasting', True)`\n",
            "  data.replace('MALE',1, inplace=True)\n",
            "<ipython-input-5-709dcaf1cf2f>:3: FutureWarning: Downcasting behavior in `replace` is deprecated and will be removed in a future version. To retain the old behavior, explicitly call `result.infer_objects(copy=False)`. To opt-in to the future behavior, set `pd.set_option('future.no_silent_downcasting', True)`\n",
            "  data.replace('Positive',1, inplace=True)\n",
            "<ipython-input-5-709dcaf1cf2f>:4: FutureWarning: Downcasting behavior in `replace` is deprecated and will be removed in a future version. To retain the old behavior, explicitly call `result.infer_objects(copy=False)`. To opt-in to the future behavior, set `pd.set_option('future.no_silent_downcasting', True)`\n",
            "  data.replace('Negative',0, inplace=True)\n",
            "<ipython-input-5-709dcaf1cf2f>:6: FutureWarning: Downcasting behavior in `replace` is deprecated and will be removed in a future version. To retain the old behavior, explicitly call `result.infer_objects(copy=False)`. To opt-in to the future behavior, set `pd.set_option('future.no_silent_downcasting', True)`\n",
            "  data.replace('Alive',1, inplace=True)\n"
          ]
        }
      ]
    },
    {
      "cell_type": "code",
      "source": [
        "data.replace('II',2, inplace=True)\n",
        "data.replace('III',3, inplace=True)\n",
        "data.replace('I',1, inplace=True)\n"
      ],
      "metadata": {
        "colab": {
          "base_uri": "https://localhost:8080/"
        },
        "id": "DoWov6Ap0Eiq",
        "outputId": "b32db231-54cf-4f5e-d209-d303f53cf884"
      },
      "execution_count": null,
      "outputs": [
        {
          "output_type": "stream",
          "name": "stderr",
          "text": [
            "<ipython-input-6-fd5d96a82175>:3: FutureWarning: Downcasting behavior in `replace` is deprecated and will be removed in a future version. To retain the old behavior, explicitly call `result.infer_objects(copy=False)`. To opt-in to the future behavior, set `pd.set_option('future.no_silent_downcasting', True)`\n",
            "  data.replace('I',1, inplace=True)\n"
          ]
        }
      ]
    },
    {
      "cell_type": "code",
      "source": [
        "data.replace('Infiltrating Ductal Carcinoma',1, inplace=True)\n",
        "data.replace('Infiltrating Lobular Carcinoma',2, inplace=True)\n",
        "data.replace('Mucinous Carcinoma',3, inplace=True)\n"
      ],
      "metadata": {
        "colab": {
          "base_uri": "https://localhost:8080/"
        },
        "id": "d_cc9WQS0H7n",
        "outputId": "86cc7f00-ebf8-4c16-8728-1d2c3713ace3"
      },
      "execution_count": null,
      "outputs": [
        {
          "output_type": "stream",
          "name": "stderr",
          "text": [
            "<ipython-input-7-ecb44d251b39>:3: FutureWarning: Downcasting behavior in `replace` is deprecated and will be removed in a future version. To retain the old behavior, explicitly call `result.infer_objects(copy=False)`. To opt-in to the future behavior, set `pd.set_option('future.no_silent_downcasting', True)`\n",
            "  data.replace('Mucinous Carcinoma',3, inplace=True)\n"
          ]
        }
      ]
    },
    {
      "cell_type": "code",
      "source": [
        "data.replace('Other',0, inplace=True)\n",
        "data.replace('Lumpectomy',1, inplace=True)\n",
        "data.replace('Modified Radical Mastectomy',2, inplace=True)\n",
        "data.replace('Simple Mastectomy',3, inplace=True)\n"
      ],
      "metadata": {
        "colab": {
          "base_uri": "https://localhost:8080/"
        },
        "id": "5K9QyuQT0K25",
        "outputId": "0f49067f-dbc3-42a9-df35-08717f64fd4d"
      },
      "execution_count": null,
      "outputs": [
        {
          "output_type": "stream",
          "name": "stderr",
          "text": [
            "<ipython-input-8-f9216a2b26c7>:4: FutureWarning: Downcasting behavior in `replace` is deprecated and will be removed in a future version. To retain the old behavior, explicitly call `result.infer_objects(copy=False)`. To opt-in to the future behavior, set `pd.set_option('future.no_silent_downcasting', True)`\n",
            "  data.replace('Simple Mastectomy',3, inplace=True)\n"
          ]
        }
      ]
    },
    {
      "cell_type": "code",
      "source": [
        "data.head()\n"
      ],
      "metadata": {
        "colab": {
          "base_uri": "https://localhost:8080/",
          "height": 243
        },
        "id": "pIAM6OUk0NnK",
        "outputId": "88a6f435-64da-421d-cdd0-9ca573dd1e41"
      },
      "execution_count": null,
      "outputs": [
        {
          "output_type": "execute_result",
          "data": {
            "text/plain": [
              "   Age  Gender  Protein1  Protein2  Protein3  Protein4  Tumour_Stage  \\\n",
              "0   42       0   0.95256   2.15000  0.007972 -0.048340             2   \n",
              "1   54       0   0.00000   1.38020 -0.498030 -0.507320             2   \n",
              "2   63       0  -0.52303   1.76400 -0.370190  0.010815             2   \n",
              "3   78       0  -0.87618   0.12943 -0.370380  0.132190             1   \n",
              "4   42       0   0.22611   1.74910 -0.543970 -0.390210             2   \n",
              "\n",
              "   Histology  ER status  PR status  HER2 status  Surgery_type Date_of_Surgery  \\\n",
              "0          1          1          1            0             0       20-May-18   \n",
              "1          1          1          1            0             0       26-Apr-18   \n",
              "2          1          1          1            0             1       24-Aug-18   \n",
              "3          1          1          1            0             0       16-Nov-18   \n",
              "4          1          1          1            1             1       12-Dec-18   \n",
              "\n",
              "  Date_of_Last_Visit  Patient_Status  \n",
              "0          26-Aug-18             1.0  \n",
              "1          25-Jan-19             0.0  \n",
              "2          08-Apr-20             1.0  \n",
              "3          28-Jul-20             1.0  \n",
              "4          05-Jan-19             1.0  "
            ],
            "text/html": [
              "\n",
              "  <div id=\"df-e217c956-28b3-4606-b929-b41b224e835f\" class=\"colab-df-container\">\n",
              "    <div>\n",
              "<style scoped>\n",
              "    .dataframe tbody tr th:only-of-type {\n",
              "        vertical-align: middle;\n",
              "    }\n",
              "\n",
              "    .dataframe tbody tr th {\n",
              "        vertical-align: top;\n",
              "    }\n",
              "\n",
              "    .dataframe thead th {\n",
              "        text-align: right;\n",
              "    }\n",
              "</style>\n",
              "<table border=\"1\" class=\"dataframe\">\n",
              "  <thead>\n",
              "    <tr style=\"text-align: right;\">\n",
              "      <th></th>\n",
              "      <th>Age</th>\n",
              "      <th>Gender</th>\n",
              "      <th>Protein1</th>\n",
              "      <th>Protein2</th>\n",
              "      <th>Protein3</th>\n",
              "      <th>Protein4</th>\n",
              "      <th>Tumour_Stage</th>\n",
              "      <th>Histology</th>\n",
              "      <th>ER status</th>\n",
              "      <th>PR status</th>\n",
              "      <th>HER2 status</th>\n",
              "      <th>Surgery_type</th>\n",
              "      <th>Date_of_Surgery</th>\n",
              "      <th>Date_of_Last_Visit</th>\n",
              "      <th>Patient_Status</th>\n",
              "    </tr>\n",
              "  </thead>\n",
              "  <tbody>\n",
              "    <tr>\n",
              "      <th>0</th>\n",
              "      <td>42</td>\n",
              "      <td>0</td>\n",
              "      <td>0.95256</td>\n",
              "      <td>2.15000</td>\n",
              "      <td>0.007972</td>\n",
              "      <td>-0.048340</td>\n",
              "      <td>2</td>\n",
              "      <td>1</td>\n",
              "      <td>1</td>\n",
              "      <td>1</td>\n",
              "      <td>0</td>\n",
              "      <td>0</td>\n",
              "      <td>20-May-18</td>\n",
              "      <td>26-Aug-18</td>\n",
              "      <td>1.0</td>\n",
              "    </tr>\n",
              "    <tr>\n",
              "      <th>1</th>\n",
              "      <td>54</td>\n",
              "      <td>0</td>\n",
              "      <td>0.00000</td>\n",
              "      <td>1.38020</td>\n",
              "      <td>-0.498030</td>\n",
              "      <td>-0.507320</td>\n",
              "      <td>2</td>\n",
              "      <td>1</td>\n",
              "      <td>1</td>\n",
              "      <td>1</td>\n",
              "      <td>0</td>\n",
              "      <td>0</td>\n",
              "      <td>26-Apr-18</td>\n",
              "      <td>25-Jan-19</td>\n",
              "      <td>0.0</td>\n",
              "    </tr>\n",
              "    <tr>\n",
              "      <th>2</th>\n",
              "      <td>63</td>\n",
              "      <td>0</td>\n",
              "      <td>-0.52303</td>\n",
              "      <td>1.76400</td>\n",
              "      <td>-0.370190</td>\n",
              "      <td>0.010815</td>\n",
              "      <td>2</td>\n",
              "      <td>1</td>\n",
              "      <td>1</td>\n",
              "      <td>1</td>\n",
              "      <td>0</td>\n",
              "      <td>1</td>\n",
              "      <td>24-Aug-18</td>\n",
              "      <td>08-Apr-20</td>\n",
              "      <td>1.0</td>\n",
              "    </tr>\n",
              "    <tr>\n",
              "      <th>3</th>\n",
              "      <td>78</td>\n",
              "      <td>0</td>\n",
              "      <td>-0.87618</td>\n",
              "      <td>0.12943</td>\n",
              "      <td>-0.370380</td>\n",
              "      <td>0.132190</td>\n",
              "      <td>1</td>\n",
              "      <td>1</td>\n",
              "      <td>1</td>\n",
              "      <td>1</td>\n",
              "      <td>0</td>\n",
              "      <td>0</td>\n",
              "      <td>16-Nov-18</td>\n",
              "      <td>28-Jul-20</td>\n",
              "      <td>1.0</td>\n",
              "    </tr>\n",
              "    <tr>\n",
              "      <th>4</th>\n",
              "      <td>42</td>\n",
              "      <td>0</td>\n",
              "      <td>0.22611</td>\n",
              "      <td>1.74910</td>\n",
              "      <td>-0.543970</td>\n",
              "      <td>-0.390210</td>\n",
              "      <td>2</td>\n",
              "      <td>1</td>\n",
              "      <td>1</td>\n",
              "      <td>1</td>\n",
              "      <td>1</td>\n",
              "      <td>1</td>\n",
              "      <td>12-Dec-18</td>\n",
              "      <td>05-Jan-19</td>\n",
              "      <td>1.0</td>\n",
              "    </tr>\n",
              "  </tbody>\n",
              "</table>\n",
              "</div>\n",
              "    <div class=\"colab-df-buttons\">\n",
              "\n",
              "  <div class=\"colab-df-container\">\n",
              "    <button class=\"colab-df-convert\" onclick=\"convertToInteractive('df-e217c956-28b3-4606-b929-b41b224e835f')\"\n",
              "            title=\"Convert this dataframe to an interactive table.\"\n",
              "            style=\"display:none;\">\n",
              "\n",
              "  <svg xmlns=\"http://www.w3.org/2000/svg\" height=\"24px\" viewBox=\"0 -960 960 960\">\n",
              "    <path d=\"M120-120v-720h720v720H120Zm60-500h600v-160H180v160Zm220 220h160v-160H400v160Zm0 220h160v-160H400v160ZM180-400h160v-160H180v160Zm440 0h160v-160H620v160ZM180-180h160v-160H180v160Zm440 0h160v-160H620v160Z\"/>\n",
              "  </svg>\n",
              "    </button>\n",
              "\n",
              "  <style>\n",
              "    .colab-df-container {\n",
              "      display:flex;\n",
              "      gap: 12px;\n",
              "    }\n",
              "\n",
              "    .colab-df-convert {\n",
              "      background-color: #E8F0FE;\n",
              "      border: none;\n",
              "      border-radius: 50%;\n",
              "      cursor: pointer;\n",
              "      display: none;\n",
              "      fill: #1967D2;\n",
              "      height: 32px;\n",
              "      padding: 0 0 0 0;\n",
              "      width: 32px;\n",
              "    }\n",
              "\n",
              "    .colab-df-convert:hover {\n",
              "      background-color: #E2EBFA;\n",
              "      box-shadow: 0px 1px 2px rgba(60, 64, 67, 0.3), 0px 1px 3px 1px rgba(60, 64, 67, 0.15);\n",
              "      fill: #174EA6;\n",
              "    }\n",
              "\n",
              "    .colab-df-buttons div {\n",
              "      margin-bottom: 4px;\n",
              "    }\n",
              "\n",
              "    [theme=dark] .colab-df-convert {\n",
              "      background-color: #3B4455;\n",
              "      fill: #D2E3FC;\n",
              "    }\n",
              "\n",
              "    [theme=dark] .colab-df-convert:hover {\n",
              "      background-color: #434B5C;\n",
              "      box-shadow: 0px 1px 3px 1px rgba(0, 0, 0, 0.15);\n",
              "      filter: drop-shadow(0px 1px 2px rgba(0, 0, 0, 0.3));\n",
              "      fill: #FFFFFF;\n",
              "    }\n",
              "  </style>\n",
              "\n",
              "    <script>\n",
              "      const buttonEl =\n",
              "        document.querySelector('#df-e217c956-28b3-4606-b929-b41b224e835f button.colab-df-convert');\n",
              "      buttonEl.style.display =\n",
              "        google.colab.kernel.accessAllowed ? 'block' : 'none';\n",
              "\n",
              "      async function convertToInteractive(key) {\n",
              "        const element = document.querySelector('#df-e217c956-28b3-4606-b929-b41b224e835f');\n",
              "        const dataTable =\n",
              "          await google.colab.kernel.invokeFunction('convertToInteractive',\n",
              "                                                    [key], {});\n",
              "        if (!dataTable) return;\n",
              "\n",
              "        const docLinkHtml = 'Like what you see? Visit the ' +\n",
              "          '<a target=\"_blank\" href=https://colab.research.google.com/notebooks/data_table.ipynb>data table notebook</a>'\n",
              "          + ' to learn more about interactive tables.';\n",
              "        element.innerHTML = '';\n",
              "        dataTable['output_type'] = 'display_data';\n",
              "        await google.colab.output.renderOutput(dataTable, element);\n",
              "        const docLink = document.createElement('div');\n",
              "        docLink.innerHTML = docLinkHtml;\n",
              "        element.appendChild(docLink);\n",
              "      }\n",
              "    </script>\n",
              "  </div>\n",
              "\n",
              "\n",
              "<div id=\"df-a9042291-030f-48f0-b118-0561d7755118\">\n",
              "  <button class=\"colab-df-quickchart\" onclick=\"quickchart('df-a9042291-030f-48f0-b118-0561d7755118')\"\n",
              "            title=\"Suggest charts\"\n",
              "            style=\"display:none;\">\n",
              "\n",
              "<svg xmlns=\"http://www.w3.org/2000/svg\" height=\"24px\"viewBox=\"0 0 24 24\"\n",
              "     width=\"24px\">\n",
              "    <g>\n",
              "        <path d=\"M19 3H5c-1.1 0-2 .9-2 2v14c0 1.1.9 2 2 2h14c1.1 0 2-.9 2-2V5c0-1.1-.9-2-2-2zM9 17H7v-7h2v7zm4 0h-2V7h2v10zm4 0h-2v-4h2v4z\"/>\n",
              "    </g>\n",
              "</svg>\n",
              "  </button>\n",
              "\n",
              "<style>\n",
              "  .colab-df-quickchart {\n",
              "      --bg-color: #E8F0FE;\n",
              "      --fill-color: #1967D2;\n",
              "      --hover-bg-color: #E2EBFA;\n",
              "      --hover-fill-color: #174EA6;\n",
              "      --disabled-fill-color: #AAA;\n",
              "      --disabled-bg-color: #DDD;\n",
              "  }\n",
              "\n",
              "  [theme=dark] .colab-df-quickchart {\n",
              "      --bg-color: #3B4455;\n",
              "      --fill-color: #D2E3FC;\n",
              "      --hover-bg-color: #434B5C;\n",
              "      --hover-fill-color: #FFFFFF;\n",
              "      --disabled-bg-color: #3B4455;\n",
              "      --disabled-fill-color: #666;\n",
              "  }\n",
              "\n",
              "  .colab-df-quickchart {\n",
              "    background-color: var(--bg-color);\n",
              "    border: none;\n",
              "    border-radius: 50%;\n",
              "    cursor: pointer;\n",
              "    display: none;\n",
              "    fill: var(--fill-color);\n",
              "    height: 32px;\n",
              "    padding: 0;\n",
              "    width: 32px;\n",
              "  }\n",
              "\n",
              "  .colab-df-quickchart:hover {\n",
              "    background-color: var(--hover-bg-color);\n",
              "    box-shadow: 0 1px 2px rgba(60, 64, 67, 0.3), 0 1px 3px 1px rgba(60, 64, 67, 0.15);\n",
              "    fill: var(--button-hover-fill-color);\n",
              "  }\n",
              "\n",
              "  .colab-df-quickchart-complete:disabled,\n",
              "  .colab-df-quickchart-complete:disabled:hover {\n",
              "    background-color: var(--disabled-bg-color);\n",
              "    fill: var(--disabled-fill-color);\n",
              "    box-shadow: none;\n",
              "  }\n",
              "\n",
              "  .colab-df-spinner {\n",
              "    border: 2px solid var(--fill-color);\n",
              "    border-color: transparent;\n",
              "    border-bottom-color: var(--fill-color);\n",
              "    animation:\n",
              "      spin 1s steps(1) infinite;\n",
              "  }\n",
              "\n",
              "  @keyframes spin {\n",
              "    0% {\n",
              "      border-color: transparent;\n",
              "      border-bottom-color: var(--fill-color);\n",
              "      border-left-color: var(--fill-color);\n",
              "    }\n",
              "    20% {\n",
              "      border-color: transparent;\n",
              "      border-left-color: var(--fill-color);\n",
              "      border-top-color: var(--fill-color);\n",
              "    }\n",
              "    30% {\n",
              "      border-color: transparent;\n",
              "      border-left-color: var(--fill-color);\n",
              "      border-top-color: var(--fill-color);\n",
              "      border-right-color: var(--fill-color);\n",
              "    }\n",
              "    40% {\n",
              "      border-color: transparent;\n",
              "      border-right-color: var(--fill-color);\n",
              "      border-top-color: var(--fill-color);\n",
              "    }\n",
              "    60% {\n",
              "      border-color: transparent;\n",
              "      border-right-color: var(--fill-color);\n",
              "    }\n",
              "    80% {\n",
              "      border-color: transparent;\n",
              "      border-right-color: var(--fill-color);\n",
              "      border-bottom-color: var(--fill-color);\n",
              "    }\n",
              "    90% {\n",
              "      border-color: transparent;\n",
              "      border-bottom-color: var(--fill-color);\n",
              "    }\n",
              "  }\n",
              "</style>\n",
              "\n",
              "  <script>\n",
              "    async function quickchart(key) {\n",
              "      const quickchartButtonEl =\n",
              "        document.querySelector('#' + key + ' button');\n",
              "      quickchartButtonEl.disabled = true;  // To prevent multiple clicks.\n",
              "      quickchartButtonEl.classList.add('colab-df-spinner');\n",
              "      try {\n",
              "        const charts = await google.colab.kernel.invokeFunction(\n",
              "            'suggestCharts', [key], {});\n",
              "      } catch (error) {\n",
              "        console.error('Error during call to suggestCharts:', error);\n",
              "      }\n",
              "      quickchartButtonEl.classList.remove('colab-df-spinner');\n",
              "      quickchartButtonEl.classList.add('colab-df-quickchart-complete');\n",
              "    }\n",
              "    (() => {\n",
              "      let quickchartButtonEl =\n",
              "        document.querySelector('#df-a9042291-030f-48f0-b118-0561d7755118 button');\n",
              "      quickchartButtonEl.style.display =\n",
              "        google.colab.kernel.accessAllowed ? 'block' : 'none';\n",
              "    })();\n",
              "  </script>\n",
              "</div>\n",
              "\n",
              "    </div>\n",
              "  </div>\n"
            ],
            "application/vnd.google.colaboratory.intrinsic+json": {
              "type": "dataframe",
              "variable_name": "data",
              "summary": "{\n  \"name\": \"data\",\n  \"rows\": 334,\n  \"fields\": [\n    {\n      \"column\": \"Age\",\n      \"properties\": {\n        \"dtype\": \"number\",\n        \"std\": 12,\n        \"min\": 29,\n        \"max\": 90,\n        \"num_unique_values\": 57,\n        \"samples\": [\n          42,\n          66,\n          89\n        ],\n        \"semantic_type\": \"\",\n        \"description\": \"\"\n      }\n    },\n    {\n      \"column\": \"Gender\",\n      \"properties\": {\n        \"dtype\": \"number\",\n        \"std\": 0,\n        \"min\": 0,\n        \"max\": 1,\n        \"num_unique_values\": 2,\n        \"samples\": [\n          1,\n          0\n        ],\n        \"semantic_type\": \"\",\n        \"description\": \"\"\n      }\n    },\n    {\n      \"column\": \"Protein1\",\n      \"properties\": {\n        \"dtype\": \"number\",\n        \"std\": 0.5635879406321602,\n        \"min\": -2.3409,\n        \"max\": 1.5936,\n        \"num_unique_values\": 333,\n        \"samples\": [\n          0.043546,\n          -0.17932\n        ],\n        \"semantic_type\": \"\",\n        \"description\": \"\"\n      }\n    },\n    {\n      \"column\": \"Protein2\",\n      \"properties\": {\n        \"dtype\": \"number\",\n        \"std\": 0.9116368651586273,\n        \"min\": -0.97873,\n        \"max\": 3.4022,\n        \"num_unique_values\": 334,\n        \"samples\": [\n          -0.40171,\n          1.5287\n        ],\n        \"semantic_type\": \"\",\n        \"description\": \"\"\n      }\n    },\n    {\n      \"column\": \"Protein3\",\n      \"properties\": {\n        \"dtype\": \"number\",\n        \"std\": 0.5851750448966601,\n        \"min\": -1.6274,\n        \"max\": 2.1934,\n        \"num_unique_values\": 334,\n        \"samples\": [\n          0.46685,\n          -0.16313\n        ],\n        \"semantic_type\": \"\",\n        \"description\": \"\"\n      }\n    },\n    {\n      \"column\": \"Protein4\",\n      \"properties\": {\n        \"dtype\": \"number\",\n        \"std\": 0.6290546860772147,\n        \"min\": -2.0255,\n        \"max\": 1.6299,\n        \"num_unique_values\": 333,\n        \"samples\": [\n          1.0478,\n          0.18637\n        ],\n        \"semantic_type\": \"\",\n        \"description\": \"\"\n      }\n    },\n    {\n      \"column\": \"Tumour_Stage\",\n      \"properties\": {\n        \"dtype\": \"number\",\n        \"std\": 0,\n        \"min\": 1,\n        \"max\": 3,\n        \"num_unique_values\": 3,\n        \"samples\": [\n          2,\n          1\n        ],\n        \"semantic_type\": \"\",\n        \"description\": \"\"\n      }\n    },\n    {\n      \"column\": \"Histology\",\n      \"properties\": {\n        \"dtype\": \"number\",\n        \"std\": 0,\n        \"min\": 1,\n        \"max\": 3,\n        \"num_unique_values\": 3,\n        \"samples\": [\n          1,\n          2\n        ],\n        \"semantic_type\": \"\",\n        \"description\": \"\"\n      }\n    },\n    {\n      \"column\": \"ER status\",\n      \"properties\": {\n        \"dtype\": \"number\",\n        \"std\": 0,\n        \"min\": 1,\n        \"max\": 1,\n        \"num_unique_values\": 1,\n        \"samples\": [\n          1\n        ],\n        \"semantic_type\": \"\",\n        \"description\": \"\"\n      }\n    },\n    {\n      \"column\": \"PR status\",\n      \"properties\": {\n        \"dtype\": \"number\",\n        \"std\": 0,\n        \"min\": 1,\n        \"max\": 1,\n        \"num_unique_values\": 1,\n        \"samples\": [\n          1\n        ],\n        \"semantic_type\": \"\",\n        \"description\": \"\"\n      }\n    },\n    {\n      \"column\": \"HER2 status\",\n      \"properties\": {\n        \"dtype\": \"number\",\n        \"std\": 0,\n        \"min\": 0,\n        \"max\": 1,\n        \"num_unique_values\": 2,\n        \"samples\": [\n          1\n        ],\n        \"semantic_type\": \"\",\n        \"description\": \"\"\n      }\n    },\n    {\n      \"column\": \"Surgery_type\",\n      \"properties\": {\n        \"dtype\": \"number\",\n        \"std\": 1,\n        \"min\": 0,\n        \"max\": 3,\n        \"num_unique_values\": 4,\n        \"samples\": [\n          1\n        ],\n        \"semantic_type\": \"\",\n        \"description\": \"\"\n      }\n    },\n    {\n      \"column\": \"Date_of_Surgery\",\n      \"properties\": {\n        \"dtype\": \"object\",\n        \"num_unique_values\": 181,\n        \"samples\": [\n          \"15-Feb-18\"\n        ],\n        \"semantic_type\": \"\",\n        \"description\": \"\"\n      }\n    },\n    {\n      \"column\": \"Date_of_Last_Visit\",\n      \"properties\": {\n        \"dtype\": \"object\",\n        \"num_unique_values\": 285,\n        \"samples\": [\n          \"28-Dec-19\"\n        ],\n        \"semantic_type\": \"\",\n        \"description\": \"\"\n      }\n    },\n    {\n      \"column\": \"Patient_Status\",\n      \"properties\": {\n        \"dtype\": \"number\",\n        \"std\": 0.4047758119551178,\n        \"min\": 0.0,\n        \"max\": 1.0,\n        \"num_unique_values\": 2,\n        \"samples\": [\n          0.0\n        ],\n        \"semantic_type\": \"\",\n        \"description\": \"\"\n      }\n    }\n  ]\n}"
            }
          },
          "metadata": {},
          "execution_count": 9
        }
      ]
    },
    {
      "cell_type": "code",
      "source": [
        "x=data.drop(['Patient_Status','Date_of_Surgery','Date_of_Last_Visit'],axis=1)\n",
        "y=data['Patient_Status']\n"
      ],
      "metadata": {
        "id": "7kd0f3uM0S0Y"
      },
      "execution_count": null,
      "outputs": []
    },
    {
      "cell_type": "code",
      "source": [
        "y.isnull().sum()\n",
        "y.fillna(0,inplace=True)\n"
      ],
      "metadata": {
        "id": "bCJSLAwH0cvz"
      },
      "execution_count": null,
      "outputs": []
    },
    {
      "cell_type": "code",
      "source": [
        "from imblearn.over_sampling import SMOTE\n",
        "smote=SMOTE()\n",
        "x,y=smote.fit_resample(x,y)\n"
      ],
      "metadata": {
        "id": "FQLsqJ2_0f50"
      },
      "execution_count": null,
      "outputs": []
    },
    {
      "cell_type": "code",
      "source": [
        "x.shape\n"
      ],
      "metadata": {
        "colab": {
          "base_uri": "https://localhost:8080/"
        },
        "id": "qTOAXmKe0iU3",
        "outputId": "60a76349-1f6e-43bb-d164-a8206fb50167"
      },
      "execution_count": null,
      "outputs": [
        {
          "output_type": "execute_result",
          "data": {
            "text/plain": [
              "(510, 12)"
            ]
          },
          "metadata": {},
          "execution_count": 13
        }
      ]
    },
    {
      "cell_type": "code",
      "source": [
        "y.shape\n"
      ],
      "metadata": {
        "colab": {
          "base_uri": "https://localhost:8080/"
        },
        "id": "ohnKT_w_0k5f",
        "outputId": "93d3abc1-ba5a-48a2-ac02-e657e362fd4a"
      },
      "execution_count": null,
      "outputs": [
        {
          "output_type": "execute_result",
          "data": {
            "text/plain": [
              "(510,)"
            ]
          },
          "metadata": {},
          "execution_count": 14
        }
      ]
    },
    {
      "cell_type": "code",
      "source": [
        "from sklearn.model_selection import train_test_split\n"
      ],
      "metadata": {
        "id": "2p6XphTH0nLr"
      },
      "execution_count": null,
      "outputs": []
    },
    {
      "cell_type": "code",
      "source": [
        "x_train,x_test,y_train,y_test=train_test_split(x,y,test_size=0.2,random_state=0)\n"
      ],
      "metadata": {
        "id": "whEANWup0pQY"
      },
      "execution_count": null,
      "outputs": []
    },
    {
      "cell_type": "code",
      "source": [
        "from sklearn.neighbors import KNeighborsClassifier\n"
      ],
      "metadata": {
        "id": "DGoWKp8c0rRJ"
      },
      "execution_count": null,
      "outputs": []
    },
    {
      "cell_type": "code",
      "source": [
        "accuracy_list=[]\n",
        "for i in range(1,101):\n",
        "  bkn=KNeighborsClassifier(n_neighbors=i)\n",
        "  bkn.fit(x_train,y_train)\n",
        "  accuracy_list.append([bkn.score(x_test,y_test)])\n"
      ],
      "metadata": {
        "id": "0QPdfl2X0wj4"
      },
      "execution_count": null,
      "outputs": []
    },
    {
      "cell_type": "code",
      "source": [
        "l=[]\n",
        "for i in range(len(accuracy_list)):\n",
        "  print(accuracy_list[i])\n",
        "  l.append(i+1)\n"
      ],
      "metadata": {
        "colab": {
          "base_uri": "https://localhost:8080/"
        },
        "id": "qu83u7hd0z1P",
        "outputId": "6149afb3-ca5a-435a-ff01-d2a7cf16e6a4"
      },
      "execution_count": null,
      "outputs": [
        {
          "output_type": "stream",
          "name": "stdout",
          "text": [
            "[0.7156862745098039]\n",
            "[0.6176470588235294]\n",
            "[0.6764705882352942]\n",
            "[0.6666666666666666]\n",
            "[0.6862745098039216]\n",
            "[0.6470588235294118]\n",
            "[0.6764705882352942]\n",
            "[0.6666666666666666]\n",
            "[0.6666666666666666]\n",
            "[0.6666666666666666]\n",
            "[0.6470588235294118]\n",
            "[0.6176470588235294]\n",
            "[0.6176470588235294]\n",
            "[0.6274509803921569]\n",
            "[0.6568627450980392]\n",
            "[0.6862745098039216]\n",
            "[0.7058823529411765]\n",
            "[0.6764705882352942]\n",
            "[0.6862745098039216]\n",
            "[0.6470588235294118]\n",
            "[0.6568627450980392]\n",
            "[0.6274509803921569]\n",
            "[0.6372549019607843]\n",
            "[0.6666666666666666]\n",
            "[0.6470588235294118]\n",
            "[0.6666666666666666]\n",
            "[0.6372549019607843]\n",
            "[0.6470588235294118]\n",
            "[0.6568627450980392]\n",
            "[0.6372549019607843]\n",
            "[0.6372549019607843]\n",
            "[0.6372549019607843]\n",
            "[0.6470588235294118]\n",
            "[0.6568627450980392]\n",
            "[0.6568627450980392]\n",
            "[0.6372549019607843]\n",
            "[0.6274509803921569]\n",
            "[0.6176470588235294]\n",
            "[0.6274509803921569]\n",
            "[0.6274509803921569]\n",
            "[0.5882352941176471]\n",
            "[0.6078431372549019]\n",
            "[0.5784313725490197]\n",
            "[0.5784313725490197]\n",
            "[0.5882352941176471]\n",
            "[0.5980392156862745]\n",
            "[0.6176470588235294]\n",
            "[0.6274509803921569]\n",
            "[0.5980392156862745]\n",
            "[0.6078431372549019]\n",
            "[0.6176470588235294]\n",
            "[0.6176470588235294]\n",
            "[0.6176470588235294]\n",
            "[0.6176470588235294]\n",
            "[0.6078431372549019]\n",
            "[0.6078431372549019]\n",
            "[0.6470588235294118]\n",
            "[0.6470588235294118]\n",
            "[0.6470588235294118]\n",
            "[0.6372549019607843]\n",
            "[0.6372549019607843]\n",
            "[0.6078431372549019]\n",
            "[0.6176470588235294]\n",
            "[0.5980392156862745]\n",
            "[0.6274509803921569]\n",
            "[0.5980392156862745]\n",
            "[0.6372549019607843]\n",
            "[0.6078431372549019]\n",
            "[0.6176470588235294]\n",
            "[0.6078431372549019]\n",
            "[0.6078431372549019]\n",
            "[0.5686274509803921]\n",
            "[0.5882352941176471]\n",
            "[0.6078431372549019]\n",
            "[0.6470588235294118]\n",
            "[0.6274509803921569]\n",
            "[0.6568627450980392]\n",
            "[0.6176470588235294]\n",
            "[0.6372549019607843]\n",
            "[0.5784313725490197]\n",
            "[0.5980392156862745]\n",
            "[0.5392156862745098]\n",
            "[0.5392156862745098]\n",
            "[0.5392156862745098]\n",
            "[0.5392156862745098]\n",
            "[0.5294117647058824]\n",
            "[0.5490196078431373]\n",
            "[0.5490196078431373]\n",
            "[0.5686274509803921]\n",
            "[0.5392156862745098]\n",
            "[0.5784313725490197]\n",
            "[0.5294117647058824]\n",
            "[0.5882352941176471]\n",
            "[0.5686274509803921]\n",
            "[0.5784313725490197]\n",
            "[0.5588235294117647]\n",
            "[0.5784313725490197]\n",
            "[0.5784313725490197]\n",
            "[0.5980392156862745]\n",
            "[0.5490196078431373]\n"
          ]
        }
      ]
    },
    {
      "cell_type": "code",
      "source": [
        "import matplotlib.pyplot as plt\n"
      ],
      "metadata": {
        "id": "Hi6tvkgX04EZ"
      },
      "execution_count": null,
      "outputs": []
    },
    {
      "cell_type": "code",
      "source": [
        "plt.plot(l,accuracy_list)\n"
      ],
      "metadata": {
        "colab": {
          "base_uri": "https://localhost:8080/",
          "height": 453
        },
        "id": "aXgjShsq06Bb",
        "outputId": "cf2749e9-2534-4cd5-b0bc-752eb5f0e948"
      },
      "execution_count": null,
      "outputs": [
        {
          "output_type": "execute_result",
          "data": {
            "text/plain": [
              "[<matplotlib.lines.Line2D at 0x7f5006f0d270>]"
            ]
          },
          "metadata": {},
          "execution_count": 21
        },
        {
          "output_type": "display_data",
          "data": {
            "text/plain": [
              "<Figure size 640x480 with 1 Axes>"
            ],
            "image/png": "[encoded data removed]"
          },
          "metadata": {}
        }
      ]
    },
    {
      "cell_type": "code",
      "source": [
        "from sklearn.metrics import accuracy_score,confusion_matrix,classification_report\n"
      ],
      "metadata": {
        "id": "V8mLiEu81Fdc"
      },
      "execution_count": null,
      "outputs": []
    },
    {
      "cell_type": "code",
      "source": [
        "l=[0.20,0.25,0.30,0.35]\n"
      ],
      "metadata": {
        "id": "aarZX_Aj1HVp"
      },
      "execution_count": null,
      "outputs": []
    },
    {
      "cell_type": "code",
      "source": [
        "from sklearn.svm import SVC\n",
        "sm=SVC(kernel='linear')\n"
      ],
      "metadata": {
        "id": "jtDxhULs1Jx0"
      },
      "execution_count": null,
      "outputs": []
    },
    {
      "cell_type": "code",
      "source": [
        "accuracy_list1=[]\n",
        "accuracy_list2=[]\n",
        "reports=[]\n",
        "metrics=[]\n"
      ],
      "metadata": {
        "id": "nls9Eomj1MQx"
      },
      "execution_count": null,
      "outputs": []
    },
    {
      "cell_type": "code",
      "source": [
        "for i in l:\n",
        "    x_train1,x_test1,y_train1,y_test1=train_test_split(x,y,test_size=i,random_state=42)\n",
        "    sm.fit(x_train1,y_train1)\n",
        "    y_pred=sm.predict(x_test1)\n",
        "    accuracy_list2.append(accuracy_score(y_test1,y_pred))\n",
        "    reports.append(classification_report(y_test1,y_pred))\n",
        "    metrics.append(confusion_matrix(y_test1,y_pred))\n",
        "    accuracy_list1.append([sm.score(x_test1,y_test1)])\n"
      ],
      "metadata": {
        "id": "gJTxYXd21PKO"
      },
      "execution_count": null,
      "outputs": []
    },
    {
      "cell_type": "code",
      "source": [
        "print(accuracy_list1)\n"
      ],
      "metadata": {
        "colab": {
          "base_uri": "https://localhost:8080/"
        },
        "id": "_yj5pKwM1R2U",
        "outputId": "1af6b6b9-52a5-472f-c695-aab804e05b9a"
      },
      "execution_count": null,
      "outputs": [
        {
          "output_type": "stream",
          "name": "stdout",
          "text": [
            "[[0.5882352941176471], [0.5546875], [0.5751633986928104], [0.6033519553072626]]\n"
          ]
        }
      ]
    },
    {
      "cell_type": "code",
      "source": [
        "plt.plot(l,accuracy_list1)\n"
      ],
      "metadata": {
        "colab": {
          "base_uri": "https://localhost:8080/",
          "height": 448
        },
        "id": "WBOdX5c-1WYs",
        "outputId": "4e9ae32f-010b-47d6-d2c5-8befaadf0c4c"
      },
      "execution_count": null,
      "outputs": [
        {
          "output_type": "execute_result",
          "data": {
            "text/plain": [
              "[<matplotlib.lines.Line2D at 0x7f50042317e0>]"
            ]
          },
          "metadata": {},
          "execution_count": 33
        },
        {
          "output_type": "display_data",
          "data": {
            "text/plain": [
              "<Figure size 640x480 with 1 Axes>"
            ],
            "image/png": "[encoded data removed]"
          },
          "metadata": {}
        }
      ]
    },
    {
      "cell_type": "code",
      "source": [
        "plt.plot(l,accuracy_list2)\n"
      ],
      "metadata": {
        "colab": {
          "base_uri": "https://localhost:8080/",
          "height": 448
        },
        "id": "bwZWIR2Q1YqZ",
        "outputId": "2a823afb-50e9-407d-cc23-a656cdeff7d8"
      },
      "execution_count": null,
      "outputs": [
        {
          "output_type": "execute_result",
          "data": {
            "text/plain": [
              "[<matplotlib.lines.Line2D at 0x7f500a42ee00>]"
            ]
          },
          "metadata": {},
          "execution_count": 32
        },
        {
          "output_type": "display_data",
          "data": {
            "text/plain": [
              "<Figure size 640x480 with 1 Axes>"
            ],
            "image/png": "[encoded data removed]"
          },
          "metadata": {}
        }
      ]
    },
    {
      "cell_type": "code",
      "source": [
        "print(reports[1])\n"
      ],
      "metadata": {
        "colab": {
          "base_uri": "https://localhost:8080/"
        },
        "id": "0eXA9DIr1a37",
        "outputId": "aeca1778-78a8-47df-9fe0-4733d8494381"
      },
      "execution_count": null,
      "outputs": [
        {
          "output_type": "stream",
          "name": "stdout",
          "text": [
            "              precision    recall  f1-score   support\n",
            "\n",
            "         0.0       0.58      0.59      0.58        68\n",
            "         1.0       0.53      0.52      0.52        60\n",
            "\n",
            "    accuracy                           0.55       128\n",
            "   macro avg       0.55      0.55      0.55       128\n",
            "weighted avg       0.55      0.55      0.55       128\n",
            "\n"
          ]
        }
      ]
    }
  ]
}